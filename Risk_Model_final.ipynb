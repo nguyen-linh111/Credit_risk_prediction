{
  "nbformat": 4,
  "nbformat_minor": 0,
  "metadata": {
    "colab": {
      "name": "Risk_Model_final.ipynb",
      "provenance": [],
      "collapsed_sections": []
    },
    "kernelspec": {
      "name": "python3",
      "display_name": "Python 3"
    },
    "language_info": {
      "name": "python"
    }
  },
  "cells": [
    {
      "cell_type": "code",
      "execution_count": 130,
      "metadata": {
        "id": "aaQnr-IqYmCF"
      },
      "outputs": [],
      "source": [
        "import numpy as np\n",
        "import pandas as pd\n",
        "import matplotlib\n",
        "import matplotlib.pyplot as plt\n",
        "%matplotlib inline\n",
        "import seaborn as sns\n",
        "import warnings\n",
        "warnings.filterwarnings(\"ignore\")\n",
        "from sklearn.model_selection import train_test_split, KFold, cross_val_score # to split the data\n",
        "from sklearn.metrics import accuracy_score, confusion_matrix, classification_report, fbeta_score #To evaluate our model\n",
        "from sklearn.model_selection import GridSearchCV\n",
        "# Algorithmns models to be compared\n",
        "from sklearn.ensemble import RandomForestClassifier\n",
        "from sklearn.linear_model import LogisticRegression\n",
        "from sklearn.tree import DecisionTreeClassifier\n",
        "from sklearn.svm import SVC"
      ]
    },
    {
      "cell_type": "code",
      "source": [
        "data = pd.read_csv('/content/german_credit_dataset.csv')\n",
        "data.head()"
      ],
      "metadata": {
        "colab": {
          "base_uri": "https://localhost:8080/",
          "height": 206
        },
        "id": "IRhseHOkYsl0",
        "outputId": "74acf3ba-ecd3-445a-904f-c0a4e894783d"
      },
      "execution_count": 131,
      "outputs": [
        {
          "output_type": "execute_result",
          "data": {
            "text/plain": [
              "   Age     Sex                     Job Housing Saving accounts  \\\n",
              "0   67    male                 skilled     own             NaN   \n",
              "1   22  female                 skilled     own          little   \n",
              "2   49    male  unskilled and resident     own          little   \n",
              "3   45    male                 skilled    free          little   \n",
              "4   53    male                 skilled    free          little   \n",
              "\n",
              "  Checking account  Credit amount  Duration              Purpose  Risk  \n",
              "0           little           1169         6             radio/TV  good  \n",
              "1         moderate           5951        48             radio/TV   bad  \n",
              "2              NaN           2096        12            education  good  \n",
              "3           little           7882        42  furniture/equipment  good  \n",
              "4           little           4870        24                  car   bad  "
            ],
            "text/html": [
              "\n",
              "  <div id=\"df-e9f59d36-24f4-4891-8c79-59a6568cbf35\">\n",
              "    <div class=\"colab-df-container\">\n",
              "      <div>\n",
              "<style scoped>\n",
              "    .dataframe tbody tr th:only-of-type {\n",
              "        vertical-align: middle;\n",
              "    }\n",
              "\n",
              "    .dataframe tbody tr th {\n",
              "        vertical-align: top;\n",
              "    }\n",
              "\n",
              "    .dataframe thead th {\n",
              "        text-align: right;\n",
              "    }\n",
              "</style>\n",
              "<table border=\"1\" class=\"dataframe\">\n",
              "  <thead>\n",
              "    <tr style=\"text-align: right;\">\n",
              "      <th></th>\n",
              "      <th>Age</th>\n",
              "      <th>Sex</th>\n",
              "      <th>Job</th>\n",
              "      <th>Housing</th>\n",
              "      <th>Saving accounts</th>\n",
              "      <th>Checking account</th>\n",
              "      <th>Credit amount</th>\n",
              "      <th>Duration</th>\n",
              "      <th>Purpose</th>\n",
              "      <th>Risk</th>\n",
              "    </tr>\n",
              "  </thead>\n",
              "  <tbody>\n",
              "    <tr>\n",
              "      <th>0</th>\n",
              "      <td>67</td>\n",
              "      <td>male</td>\n",
              "      <td>skilled</td>\n",
              "      <td>own</td>\n",
              "      <td>NaN</td>\n",
              "      <td>little</td>\n",
              "      <td>1169</td>\n",
              "      <td>6</td>\n",
              "      <td>radio/TV</td>\n",
              "      <td>good</td>\n",
              "    </tr>\n",
              "    <tr>\n",
              "      <th>1</th>\n",
              "      <td>22</td>\n",
              "      <td>female</td>\n",
              "      <td>skilled</td>\n",
              "      <td>own</td>\n",
              "      <td>little</td>\n",
              "      <td>moderate</td>\n",
              "      <td>5951</td>\n",
              "      <td>48</td>\n",
              "      <td>radio/TV</td>\n",
              "      <td>bad</td>\n",
              "    </tr>\n",
              "    <tr>\n",
              "      <th>2</th>\n",
              "      <td>49</td>\n",
              "      <td>male</td>\n",
              "      <td>unskilled and resident</td>\n",
              "      <td>own</td>\n",
              "      <td>little</td>\n",
              "      <td>NaN</td>\n",
              "      <td>2096</td>\n",
              "      <td>12</td>\n",
              "      <td>education</td>\n",
              "      <td>good</td>\n",
              "    </tr>\n",
              "    <tr>\n",
              "      <th>3</th>\n",
              "      <td>45</td>\n",
              "      <td>male</td>\n",
              "      <td>skilled</td>\n",
              "      <td>free</td>\n",
              "      <td>little</td>\n",
              "      <td>little</td>\n",
              "      <td>7882</td>\n",
              "      <td>42</td>\n",
              "      <td>furniture/equipment</td>\n",
              "      <td>good</td>\n",
              "    </tr>\n",
              "    <tr>\n",
              "      <th>4</th>\n",
              "      <td>53</td>\n",
              "      <td>male</td>\n",
              "      <td>skilled</td>\n",
              "      <td>free</td>\n",
              "      <td>little</td>\n",
              "      <td>little</td>\n",
              "      <td>4870</td>\n",
              "      <td>24</td>\n",
              "      <td>car</td>\n",
              "      <td>bad</td>\n",
              "    </tr>\n",
              "  </tbody>\n",
              "</table>\n",
              "</div>\n",
              "      <button class=\"colab-df-convert\" onclick=\"convertToInteractive('df-e9f59d36-24f4-4891-8c79-59a6568cbf35')\"\n",
              "              title=\"Convert this dataframe to an interactive table.\"\n",
              "              style=\"display:none;\">\n",
              "        \n",
              "  <svg xmlns=\"http://www.w3.org/2000/svg\" height=\"24px\"viewBox=\"0 0 24 24\"\n",
              "       width=\"24px\">\n",
              "    <path d=\"M0 0h24v24H0V0z\" fill=\"none\"/>\n",
              "    <path d=\"M18.56 5.44l.94 2.06.94-2.06 2.06-.94-2.06-.94-.94-2.06-.94 2.06-2.06.94zm-11 1L8.5 8.5l.94-2.06 2.06-.94-2.06-.94L8.5 2.5l-.94 2.06-2.06.94zm10 10l.94 2.06.94-2.06 2.06-.94-2.06-.94-.94-2.06-.94 2.06-2.06.94z\"/><path d=\"M17.41 7.96l-1.37-1.37c-.4-.4-.92-.59-1.43-.59-.52 0-1.04.2-1.43.59L10.3 9.45l-7.72 7.72c-.78.78-.78 2.05 0 2.83L4 21.41c.39.39.9.59 1.41.59.51 0 1.02-.2 1.41-.59l7.78-7.78 2.81-2.81c.8-.78.8-2.07 0-2.86zM5.41 20L4 18.59l7.72-7.72 1.47 1.35L5.41 20z\"/>\n",
              "  </svg>\n",
              "      </button>\n",
              "      \n",
              "  <style>\n",
              "    .colab-df-container {\n",
              "      display:flex;\n",
              "      flex-wrap:wrap;\n",
              "      gap: 12px;\n",
              "    }\n",
              "\n",
              "    .colab-df-convert {\n",
              "      background-color: #E8F0FE;\n",
              "      border: none;\n",
              "      border-radius: 50%;\n",
              "      cursor: pointer;\n",
              "      display: none;\n",
              "      fill: #1967D2;\n",
              "      height: 32px;\n",
              "      padding: 0 0 0 0;\n",
              "      width: 32px;\n",
              "    }\n",
              "\n",
              "    .colab-df-convert:hover {\n",
              "      background-color: #E2EBFA;\n",
              "      box-shadow: 0px 1px 2px rgba(60, 64, 67, 0.3), 0px 1px 3px 1px rgba(60, 64, 67, 0.15);\n",
              "      fill: #174EA6;\n",
              "    }\n",
              "\n",
              "    [theme=dark] .colab-df-convert {\n",
              "      background-color: #3B4455;\n",
              "      fill: #D2E3FC;\n",
              "    }\n",
              "\n",
              "    [theme=dark] .colab-df-convert:hover {\n",
              "      background-color: #434B5C;\n",
              "      box-shadow: 0px 1px 3px 1px rgba(0, 0, 0, 0.15);\n",
              "      filter: drop-shadow(0px 1px 2px rgba(0, 0, 0, 0.3));\n",
              "      fill: #FFFFFF;\n",
              "    }\n",
              "  </style>\n",
              "\n",
              "      <script>\n",
              "        const buttonEl =\n",
              "          document.querySelector('#df-e9f59d36-24f4-4891-8c79-59a6568cbf35 button.colab-df-convert');\n",
              "        buttonEl.style.display =\n",
              "          google.colab.kernel.accessAllowed ? 'block' : 'none';\n",
              "\n",
              "        async function convertToInteractive(key) {\n",
              "          const element = document.querySelector('#df-e9f59d36-24f4-4891-8c79-59a6568cbf35');\n",
              "          const dataTable =\n",
              "            await google.colab.kernel.invokeFunction('convertToInteractive',\n",
              "                                                     [key], {});\n",
              "          if (!dataTable) return;\n",
              "\n",
              "          const docLinkHtml = 'Like what you see? Visit the ' +\n",
              "            '<a target=\"_blank\" href=https://colab.research.google.com/notebooks/data_table.ipynb>data table notebook</a>'\n",
              "            + ' to learn more about interactive tables.';\n",
              "          element.innerHTML = '';\n",
              "          dataTable['output_type'] = 'display_data';\n",
              "          await google.colab.output.renderOutput(dataTable, element);\n",
              "          const docLink = document.createElement('div');\n",
              "          docLink.innerHTML = docLinkHtml;\n",
              "          element.appendChild(docLink);\n",
              "        }\n",
              "      </script>\n",
              "    </div>\n",
              "  </div>\n",
              "  "
            ]
          },
          "metadata": {},
          "execution_count": 131
        }
      ]
    },
    {
      "cell_type": "code",
      "source": [
        "data.info()"
      ],
      "metadata": {
        "colab": {
          "base_uri": "https://localhost:8080/"
        },
        "id": "kux0JLzqZqKb",
        "outputId": "0047e39c-5e95-4c39-b9f3-b0357635c23a"
      },
      "execution_count": 132,
      "outputs": [
        {
          "output_type": "stream",
          "name": "stdout",
          "text": [
            "<class 'pandas.core.frame.DataFrame'>\n",
            "RangeIndex: 1000 entries, 0 to 999\n",
            "Data columns (total 10 columns):\n",
            " #   Column            Non-Null Count  Dtype \n",
            "---  ------            --------------  ----- \n",
            " 0   Age               1000 non-null   int64 \n",
            " 1   Sex               1000 non-null   object\n",
            " 2   Job               1000 non-null   object\n",
            " 3   Housing           1000 non-null   object\n",
            " 4   Saving accounts   817 non-null    object\n",
            " 5   Checking account  606 non-null    object\n",
            " 6   Credit amount     1000 non-null   int64 \n",
            " 7   Duration          1000 non-null   int64 \n",
            " 8   Purpose           1000 non-null   object\n",
            " 9   Risk              1000 non-null   object\n",
            "dtypes: int64(3), object(7)\n",
            "memory usage: 78.2+ KB\n"
          ]
        }
      ]
    },
    {
      "cell_type": "code",
      "source": [
        "data = pd.read_csv(\"/content/german_credit_dataset.csv\")"
      ],
      "metadata": {
        "id": "1rmMctqp-X8_"
      },
      "execution_count": 133,
      "outputs": []
    },
    {
      "cell_type": "code",
      "source": [
        "corr = data.corr()\n",
        "f, ax = plt.subplots(figsize=(12,12))\n",
        "cmap = sns.diverging_palette(220, 10, as_cmap=True)\n",
        "_ = sns.heatmap(corr, cmap=\"YlGn\", square=True, ax=ax, annot=True, linewidth=0.1)\n",
        "plt.title(\"Pearson correlation of Features\", y=1.05, size=20)\n",
        "plt.show()"
      ],
      "metadata": {
        "colab": {
          "base_uri": "https://localhost:8080/",
          "height": 687
        },
        "id": "5m4uyPt1MrAT",
        "outputId": "f2362bdc-54ff-4a56-cfeb-d4ded0cf1230"
      },
      "execution_count": 134,
      "outputs": [
        {
          "output_type": "display_data",
          "data": {
            "text/plain": [
              "<Figure size 864x864 with 2 Axes>"
            ],
            "image/png": "[encoded data removed]"
          },
          "metadata": {
            "needs_background": "light"
          }
        }
      ]
    },
    {
      "cell_type": "code",
      "source": [
        "###Fill nan\n",
        "\n",
        "data['Saving accounts'] = data['Saving accounts'].fillna('no_inf')\n",
        "data['Checking account'] = data['Checking account'].fillna('no_inf')"
      ],
      "metadata": {
        "id": "vS4OyqNkjm2t"
      },
      "execution_count": 135,
      "outputs": []
    },
    {
      "cell_type": "code",
      "source": [
        "data_x = data.iloc[:, :-1]\n",
        "print(\"Shape of X:\", data_x.shape)\n",
        "data_y = data[\"Risk\"]\n",
        "print(\"Shape of Y:\", data_y.shape)"
      ],
      "metadata": {
        "id": "M4CO9kfB89ns",
        "colab": {
          "base_uri": "https://localhost:8080/"
        },
        "outputId": "8d0dc9c2-a646-4e29-fbfc-43efa9a6bba7"
      },
      "execution_count": 136,
      "outputs": [
        {
          "output_type": "stream",
          "name": "stdout",
          "text": [
            "Shape of X: (1000, 9)\n",
            "Shape of Y: (1000,)\n"
          ]
        }
      ]
    },
    {
      "cell_type": "code",
      "source": [
        "cat_col = [col for col in data_x.columns if data_x[col].dtypes=='object']\n",
        "cat_col"
      ],
      "metadata": {
        "id": "w4GsPm71LZM4",
        "colab": {
          "base_uri": "https://localhost:8080/"
        },
        "outputId": "73da66fa-3a81-4381-c9e2-bc80bf631eff"
      },
      "execution_count": 137,
      "outputs": [
        {
          "output_type": "execute_result",
          "data": {
            "text/plain": [
              "['Sex', 'Job', 'Housing', 'Saving accounts', 'Checking account', 'Purpose']"
            ]
          },
          "metadata": {},
          "execution_count": 137
        }
      ]
    },
    {
      "cell_type": "code",
      "source": [
        "from sklearn.preprocessing import OneHotEncoder\n",
        "cat_cols_encoded = []\n",
        "for col in cat_col:\n",
        "    cat_cols_encoded += [f\"{col[0:3]}_{cat}\" for cat in list(data_x[col].unique())]\n",
        "cat_cols_encoded"
      ],
      "metadata": {
        "id": "EfyJVs72rhhM",
        "colab": {
          "base_uri": "https://localhost:8080/"
        },
        "outputId": "c83158d6-57ac-4974-e7a3-2a2962bb1c58"
      },
      "execution_count": 138,
      "outputs": [
        {
          "output_type": "execute_result",
          "data": {
            "text/plain": [
              "['Sex_male',\n",
              " 'Sex_female',\n",
              " 'Job_skilled',\n",
              " 'Job_unskilled and resident',\n",
              " 'Job_highly skilled',\n",
              " 'Job_unskilled and non-resident',\n",
              " 'Hou_own',\n",
              " 'Hou_free',\n",
              " 'Hou_rent',\n",
              " 'Sav_no_inf',\n",
              " 'Sav_little',\n",
              " 'Sav_quite rich',\n",
              " 'Sav_rich',\n",
              " 'Sav_moderate',\n",
              " 'Che_little',\n",
              " 'Che_moderate',\n",
              " 'Che_no_inf',\n",
              " 'Che_rich',\n",
              " 'Pur_radio/TV',\n",
              " 'Pur_education',\n",
              " 'Pur_furniture/equipment',\n",
              " 'Pur_car',\n",
              " 'Pur_business',\n",
              " 'Pur_domestic appliances',\n",
              " 'Pur_repairs',\n",
              " 'Pur_vacation/others']"
            ]
          },
          "metadata": {},
          "execution_count": 138
        }
      ]
    },
    {
      "cell_type": "code",
      "source": [
        "oh_encoder = OneHotEncoder(sparse=False, handle_unknown='ignore')\n",
        "encoded_cols = oh_encoder.fit_transform(data_x[cat_col])\n",
        "data_enc = pd.DataFrame(encoded_cols, columns=cat_cols_encoded)\n",
        "data_X =data_x.join(data_enc)\n",
        "data_X = data_X.drop(cat_col, axis=1)\n",
        "data_X"
      ],
      "metadata": {
        "id": "sp5nrO4WnlPr",
        "colab": {
          "base_uri": "https://localhost:8080/",
          "height": 522
        },
        "outputId": "600a9c28-f604-4ece-bbea-7fb2ec1f89af"
      },
      "execution_count": 139,
      "outputs": [
        {
          "output_type": "execute_result",
          "data": {
            "text/plain": [
              "     Age  Credit amount  Duration  Sex_male  Sex_female  Job_skilled  \\\n",
              "0     67           1169         6       0.0         1.0          0.0   \n",
              "1     22           5951        48       1.0         0.0          0.0   \n",
              "2     49           2096        12       0.0         1.0          0.0   \n",
              "3     45           7882        42       0.0         1.0          0.0   \n",
              "4     53           4870        24       0.0         1.0          0.0   \n",
              "..   ...            ...       ...       ...         ...          ...   \n",
              "995   31           1736        12       1.0         0.0          0.0   \n",
              "996   40           3857        30       0.0         1.0          1.0   \n",
              "997   38            804        12       0.0         1.0          0.0   \n",
              "998   23           1845        45       0.0         1.0          0.0   \n",
              "999   27           4576        45       0.0         1.0          0.0   \n",
              "\n",
              "     Job_unskilled and resident  Job_highly skilled  \\\n",
              "0                           1.0                 0.0   \n",
              "1                           1.0                 0.0   \n",
              "2                           0.0                 0.0   \n",
              "3                           1.0                 0.0   \n",
              "4                           1.0                 0.0   \n",
              "..                          ...                 ...   \n",
              "995                         0.0                 0.0   \n",
              "996                         0.0                 0.0   \n",
              "997                         1.0                 0.0   \n",
              "998                         1.0                 0.0   \n",
              "999                         1.0                 0.0   \n",
              "\n",
              "     Job_unskilled and non-resident  Hou_own  ...  Che_no_inf  Che_rich  \\\n",
              "0                               0.0      0.0  ...         0.0       0.0   \n",
              "1                               0.0      0.0  ...         0.0       0.0   \n",
              "2                               1.0      0.0  ...         1.0       0.0   \n",
              "3                               0.0      1.0  ...         0.0       0.0   \n",
              "4                               0.0      1.0  ...         0.0       0.0   \n",
              "..                              ...      ...  ...         ...       ...   \n",
              "995                             1.0      0.0  ...         1.0       0.0   \n",
              "996                             0.0      0.0  ...         0.0       0.0   \n",
              "997                             0.0      0.0  ...         1.0       0.0   \n",
              "998                             0.0      1.0  ...         0.0       0.0   \n",
              "999                             0.0      0.0  ...         0.0       0.0   \n",
              "\n",
              "     Pur_radio/TV  Pur_education  Pur_furniture/equipment  Pur_car  \\\n",
              "0             0.0            0.0                      0.0      0.0   \n",
              "1             0.0            0.0                      0.0      0.0   \n",
              "2             0.0            0.0                      0.0      1.0   \n",
              "3             0.0            0.0                      0.0      0.0   \n",
              "4             0.0            1.0                      0.0      0.0   \n",
              "..            ...            ...                      ...      ...   \n",
              "995           0.0            0.0                      0.0      0.0   \n",
              "996           0.0            1.0                      0.0      0.0   \n",
              "997           0.0            0.0                      0.0      0.0   \n",
              "998           0.0            0.0                      0.0      0.0   \n",
              "999           0.0            1.0                      0.0      0.0   \n",
              "\n",
              "     Pur_business  Pur_domestic appliances  Pur_repairs  Pur_vacation/others  \n",
              "0             0.0                      1.0          0.0                  0.0  \n",
              "1             0.0                      1.0          0.0                  0.0  \n",
              "2             0.0                      0.0          0.0                  0.0  \n",
              "3             1.0                      0.0          0.0                  0.0  \n",
              "4             0.0                      0.0          0.0                  0.0  \n",
              "..            ...                      ...          ...                  ...  \n",
              "995           1.0                      0.0          0.0                  0.0  \n",
              "996           0.0                      0.0          0.0                  0.0  \n",
              "997           0.0                      1.0          0.0                  0.0  \n",
              "998           0.0                      1.0          0.0                  0.0  \n",
              "999           0.0                      0.0          0.0                  0.0  \n",
              "\n",
              "[1000 rows x 29 columns]"
            ],
            "text/html": [
              "\n",
              "  <div id=\"df-6a605179-4f9d-4dae-aa0c-00d217138ee6\">\n",
              "    <div class=\"colab-df-container\">\n",
              "      <div>\n",
              "<style scoped>\n",
              "    .dataframe tbody tr th:only-of-type {\n",
              "        vertical-align: middle;\n",
              "    }\n",
              "\n",
              "    .dataframe tbody tr th {\n",
              "        vertical-align: top;\n",
              "    }\n",
              "\n",
              "    .dataframe thead th {\n",
              "        text-align: right;\n",
              "    }\n",
              "</style>\n",
              "<table border=\"1\" class=\"dataframe\">\n",
              "  <thead>\n",
              "    <tr style=\"text-align: right;\">\n",
              "      <th></th>\n",
              "      <th>Age</th>\n",
              "      <th>Credit amount</th>\n",
              "      <th>Duration</th>\n",
              "      <th>Sex_male</th>\n",
              "      <th>Sex_female</th>\n",
              "      <th>Job_skilled</th>\n",
              "      <th>Job_unskilled and resident</th>\n",
              "      <th>Job_highly skilled</th>\n",
              "      <th>Job_unskilled and non-resident</th>\n",
              "      <th>Hou_own</th>\n",
              "      <th>...</th>\n",
              "      <th>Che_no_inf</th>\n",
              "      <th>Che_rich</th>\n",
              "      <th>Pur_radio/TV</th>\n",
              "      <th>Pur_education</th>\n",
              "      <th>Pur_furniture/equipment</th>\n",
              "      <th>Pur_car</th>\n",
              "      <th>Pur_business</th>\n",
              "      <th>Pur_domestic appliances</th>\n",
              "      <th>Pur_repairs</th>\n",
              "      <th>Pur_vacation/others</th>\n",
              "    </tr>\n",
              "  </thead>\n",
              "  <tbody>\n",
              "    <tr>\n",
              "      <th>0</th>\n",
              "      <td>67</td>\n",
              "      <td>1169</td>\n",
              "      <td>6</td>\n",
              "      <td>0.0</td>\n",
              "      <td>1.0</td>\n",
              "      <td>0.0</td>\n",
              "      <td>1.0</td>\n",
              "      <td>0.0</td>\n",
              "      <td>0.0</td>\n",
              "      <td>0.0</td>\n",
              "      <td>...</td>\n",
              "      <td>0.0</td>\n",
              "      <td>0.0</td>\n",
              "      <td>0.0</td>\n",
              "      <td>0.0</td>\n",
              "      <td>0.0</td>\n",
              "      <td>0.0</td>\n",
              "      <td>0.0</td>\n",
              "      <td>1.0</td>\n",
              "      <td>0.0</td>\n",
              "      <td>0.0</td>\n",
              "    </tr>\n",
              "    <tr>\n",
              "      <th>1</th>\n",
              "      <td>22</td>\n",
              "      <td>5951</td>\n",
              "      <td>48</td>\n",
              "      <td>1.0</td>\n",
              "      <td>0.0</td>\n",
              "      <td>0.0</td>\n",
              "      <td>1.0</td>\n",
              "      <td>0.0</td>\n",
              "      <td>0.0</td>\n",
              "      <td>0.0</td>\n",
              "      <td>...</td>\n",
              "      <td>0.0</td>\n",
              "      <td>0.0</td>\n",
              "      <td>0.0</td>\n",
              "      <td>0.0</td>\n",
              "      <td>0.0</td>\n",
              "      <td>0.0</td>\n",
              "      <td>0.0</td>\n",
              "      <td>1.0</td>\n",
              "      <td>0.0</td>\n",
              "      <td>0.0</td>\n",
              "    </tr>\n",
              "    <tr>\n",
              "      <th>2</th>\n",
              "      <td>49</td>\n",
              "      <td>2096</td>\n",
              "      <td>12</td>\n",
              "      <td>0.0</td>\n",
              "      <td>1.0</td>\n",
              "      <td>0.0</td>\n",
              "      <td>0.0</td>\n",
              "      <td>0.0</td>\n",
              "      <td>1.0</td>\n",
              "      <td>0.0</td>\n",
              "      <td>...</td>\n",
              "      <td>1.0</td>\n",
              "      <td>0.0</td>\n",
              "      <td>0.0</td>\n",
              "      <td>0.0</td>\n",
              "      <td>0.0</td>\n",
              "      <td>1.0</td>\n",
              "      <td>0.0</td>\n",
              "      <td>0.0</td>\n",
              "      <td>0.0</td>\n",
              "      <td>0.0</td>\n",
              "    </tr>\n",
              "    <tr>\n",
              "      <th>3</th>\n",
              "      <td>45</td>\n",
              "      <td>7882</td>\n",
              "      <td>42</td>\n",
              "      <td>0.0</td>\n",
              "      <td>1.0</td>\n",
              "      <td>0.0</td>\n",
              "      <td>1.0</td>\n",
              "      <td>0.0</td>\n",
              "      <td>0.0</td>\n",
              "      <td>1.0</td>\n",
              "      <td>...</td>\n",
              "      <td>0.0</td>\n",
              "      <td>0.0</td>\n",
              "      <td>0.0</td>\n",
              "      <td>0.0</td>\n",
              "      <td>0.0</td>\n",
              "      <td>0.0</td>\n",
              "      <td>1.0</td>\n",
              "      <td>0.0</td>\n",
              "      <td>0.0</td>\n",
              "      <td>0.0</td>\n",
              "    </tr>\n",
              "    <tr>\n",
              "      <th>4</th>\n",
              "      <td>53</td>\n",
              "      <td>4870</td>\n",
              "      <td>24</td>\n",
              "      <td>0.0</td>\n",
              "      <td>1.0</td>\n",
              "      <td>0.0</td>\n",
              "      <td>1.0</td>\n",
              "      <td>0.0</td>\n",
              "      <td>0.0</td>\n",
              "      <td>1.0</td>\n",
              "      <td>...</td>\n",
              "      <td>0.0</td>\n",
              "      <td>0.0</td>\n",
              "      <td>0.0</td>\n",
              "      <td>1.0</td>\n",
              "      <td>0.0</td>\n",
              "      <td>0.0</td>\n",
              "      <td>0.0</td>\n",
              "      <td>0.0</td>\n",
              "      <td>0.0</td>\n",
              "      <td>0.0</td>\n",
              "    </tr>\n",
              "    <tr>\n",
              "      <th>...</th>\n",
              "      <td>...</td>\n",
              "      <td>...</td>\n",
              "      <td>...</td>\n",
              "      <td>...</td>\n",
              "      <td>...</td>\n",
              "      <td>...</td>\n",
              "      <td>...</td>\n",
              "      <td>...</td>\n",
              "      <td>...</td>\n",
              "      <td>...</td>\n",
              "      <td>...</td>\n",
              "      <td>...</td>\n",
              "      <td>...</td>\n",
              "      <td>...</td>\n",
              "      <td>...</td>\n",
              "      <td>...</td>\n",
              "      <td>...</td>\n",
              "      <td>...</td>\n",
              "      <td>...</td>\n",
              "      <td>...</td>\n",
              "      <td>...</td>\n",
              "    </tr>\n",
              "    <tr>\n",
              "      <th>995</th>\n",
              "      <td>31</td>\n",
              "      <td>1736</td>\n",
              "      <td>12</td>\n",
              "      <td>1.0</td>\n",
              "      <td>0.0</td>\n",
              "      <td>0.0</td>\n",
              "      <td>0.0</td>\n",
              "      <td>0.0</td>\n",
              "      <td>1.0</td>\n",
              "      <td>0.0</td>\n",
              "      <td>...</td>\n",
              "      <td>1.0</td>\n",
              "      <td>0.0</td>\n",
              "      <td>0.0</td>\n",
              "      <td>0.0</td>\n",
              "      <td>0.0</td>\n",
              "      <td>0.0</td>\n",
              "      <td>1.0</td>\n",
              "      <td>0.0</td>\n",
              "      <td>0.0</td>\n",
              "      <td>0.0</td>\n",
              "    </tr>\n",
              "    <tr>\n",
              "      <th>996</th>\n",
              "      <td>40</td>\n",
              "      <td>3857</td>\n",
              "      <td>30</td>\n",
              "      <td>0.0</td>\n",
              "      <td>1.0</td>\n",
              "      <td>1.0</td>\n",
              "      <td>0.0</td>\n",
              "      <td>0.0</td>\n",
              "      <td>0.0</td>\n",
              "      <td>0.0</td>\n",
              "      <td>...</td>\n",
              "      <td>0.0</td>\n",
              "      <td>0.0</td>\n",
              "      <td>0.0</td>\n",
              "      <td>1.0</td>\n",
              "      <td>0.0</td>\n",
              "      <td>0.0</td>\n",
              "      <td>0.0</td>\n",
              "      <td>0.0</td>\n",
              "      <td>0.0</td>\n",
              "      <td>0.0</td>\n",
              "    </tr>\n",
              "    <tr>\n",
              "      <th>997</th>\n",
              "      <td>38</td>\n",
              "      <td>804</td>\n",
              "      <td>12</td>\n",
              "      <td>0.0</td>\n",
              "      <td>1.0</td>\n",
              "      <td>0.0</td>\n",
              "      <td>1.0</td>\n",
              "      <td>0.0</td>\n",
              "      <td>0.0</td>\n",
              "      <td>0.0</td>\n",
              "      <td>...</td>\n",
              "      <td>1.0</td>\n",
              "      <td>0.0</td>\n",
              "      <td>0.0</td>\n",
              "      <td>0.0</td>\n",
              "      <td>0.0</td>\n",
              "      <td>0.0</td>\n",
              "      <td>0.0</td>\n",
              "      <td>1.0</td>\n",
              "      <td>0.0</td>\n",
              "      <td>0.0</td>\n",
              "    </tr>\n",
              "    <tr>\n",
              "      <th>998</th>\n",
              "      <td>23</td>\n",
              "      <td>1845</td>\n",
              "      <td>45</td>\n",
              "      <td>0.0</td>\n",
              "      <td>1.0</td>\n",
              "      <td>0.0</td>\n",
              "      <td>1.0</td>\n",
              "      <td>0.0</td>\n",
              "      <td>0.0</td>\n",
              "      <td>1.0</td>\n",
              "      <td>...</td>\n",
              "      <td>0.0</td>\n",
              "      <td>0.0</td>\n",
              "      <td>0.0</td>\n",
              "      <td>0.0</td>\n",
              "      <td>0.0</td>\n",
              "      <td>0.0</td>\n",
              "      <td>0.0</td>\n",
              "      <td>1.0</td>\n",
              "      <td>0.0</td>\n",
              "      <td>0.0</td>\n",
              "    </tr>\n",
              "    <tr>\n",
              "      <th>999</th>\n",
              "      <td>27</td>\n",
              "      <td>4576</td>\n",
              "      <td>45</td>\n",
              "      <td>0.0</td>\n",
              "      <td>1.0</td>\n",
              "      <td>0.0</td>\n",
              "      <td>1.0</td>\n",
              "      <td>0.0</td>\n",
              "      <td>0.0</td>\n",
              "      <td>0.0</td>\n",
              "      <td>...</td>\n",
              "      <td>0.0</td>\n",
              "      <td>0.0</td>\n",
              "      <td>0.0</td>\n",
              "      <td>1.0</td>\n",
              "      <td>0.0</td>\n",
              "      <td>0.0</td>\n",
              "      <td>0.0</td>\n",
              "      <td>0.0</td>\n",
              "      <td>0.0</td>\n",
              "      <td>0.0</td>\n",
              "    </tr>\n",
              "  </tbody>\n",
              "</table>\n",
              "<p>1000 rows × 29 columns</p>\n",
              "</div>\n",
              "      <button class=\"colab-df-convert\" onclick=\"convertToInteractive('df-6a605179-4f9d-4dae-aa0c-00d217138ee6')\"\n",
              "              title=\"Convert this dataframe to an interactive table.\"\n",
              "              style=\"display:none;\">\n",
              "        \n",
              "  <svg xmlns=\"http://www.w3.org/2000/svg\" height=\"24px\"viewBox=\"0 0 24 24\"\n",
              "       width=\"24px\">\n",
              "    <path d=\"M0 0h24v24H0V0z\" fill=\"none\"/>\n",
              "    <path d=\"M18.56 5.44l.94 2.06.94-2.06 2.06-.94-2.06-.94-.94-2.06-.94 2.06-2.06.94zm-11 1L8.5 8.5l.94-2.06 2.06-.94-2.06-.94L8.5 2.5l-.94 2.06-2.06.94zm10 10l.94 2.06.94-2.06 2.06-.94-2.06-.94-.94-2.06-.94 2.06-2.06.94z\"/><path d=\"M17.41 7.96l-1.37-1.37c-.4-.4-.92-.59-1.43-.59-.52 0-1.04.2-1.43.59L10.3 9.45l-7.72 7.72c-.78.78-.78 2.05 0 2.83L4 21.41c.39.39.9.59 1.41.59.51 0 1.02-.2 1.41-.59l7.78-7.78 2.81-2.81c.8-.78.8-2.07 0-2.86zM5.41 20L4 18.59l7.72-7.72 1.47 1.35L5.41 20z\"/>\n",
              "  </svg>\n",
              "      </button>\n",
              "      \n",
              "  <style>\n",
              "    .colab-df-container {\n",
              "      display:flex;\n",
              "      flex-wrap:wrap;\n",
              "      gap: 12px;\n",
              "    }\n",
              "\n",
              "    .colab-df-convert {\n",
              "      background-color: #E8F0FE;\n",
              "      border: none;\n",
              "      border-radius: 50%;\n",
              "      cursor: pointer;\n",
              "      display: none;\n",
              "      fill: #1967D2;\n",
              "      height: 32px;\n",
              "      padding: 0 0 0 0;\n",
              "      width: 32px;\n",
              "    }\n",
              "\n",
              "    .colab-df-convert:hover {\n",
              "      background-color: #E2EBFA;\n",
              "      box-shadow: 0px 1px 2px rgba(60, 64, 67, 0.3), 0px 1px 3px 1px rgba(60, 64, 67, 0.15);\n",
              "      fill: #174EA6;\n",
              "    }\n",
              "\n",
              "    [theme=dark] .colab-df-convert {\n",
              "      background-color: #3B4455;\n",
              "      fill: #D2E3FC;\n",
              "    }\n",
              "\n",
              "    [theme=dark] .colab-df-convert:hover {\n",
              "      background-color: #434B5C;\n",
              "      box-shadow: 0px 1px 3px 1px rgba(0, 0, 0, 0.15);\n",
              "      filter: drop-shadow(0px 1px 2px rgba(0, 0, 0, 0.3));\n",
              "      fill: #FFFFFF;\n",
              "    }\n",
              "  </style>\n",
              "\n",
              "      <script>\n",
              "        const buttonEl =\n",
              "          document.querySelector('#df-6a605179-4f9d-4dae-aa0c-00d217138ee6 button.colab-df-convert');\n",
              "        buttonEl.style.display =\n",
              "          google.colab.kernel.accessAllowed ? 'block' : 'none';\n",
              "\n",
              "        async function convertToInteractive(key) {\n",
              "          const element = document.querySelector('#df-6a605179-4f9d-4dae-aa0c-00d217138ee6');\n",
              "          const dataTable =\n",
              "            await google.colab.kernel.invokeFunction('convertToInteractive',\n",
              "                                                     [key], {});\n",
              "          if (!dataTable) return;\n",
              "\n",
              "          const docLinkHtml = 'Like what you see? Visit the ' +\n",
              "            '<a target=\"_blank\" href=https://colab.research.google.com/notebooks/data_table.ipynb>data table notebook</a>'\n",
              "            + ' to learn more about interactive tables.';\n",
              "          element.innerHTML = '';\n",
              "          dataTable['output_type'] = 'display_data';\n",
              "          await google.colab.output.renderOutput(dataTable, element);\n",
              "          const docLink = document.createElement('div');\n",
              "          docLink.innerHTML = docLinkHtml;\n",
              "          element.appendChild(docLink);\n",
              "        }\n",
              "      </script>\n",
              "    </div>\n",
              "  </div>\n",
              "  "
            ]
          },
          "metadata": {},
          "execution_count": 139
        }
      ]
    },
    {
      "cell_type": "code",
      "source": [
        "from sklearn.preprocessing import StandardScaler\n",
        "scaler = StandardScaler()\n",
        "scaler.fit(data_X)\n",
        "scaled_ds = pd.DataFrame(scaler.transform(data_X),columns=data_X.columns)\n",
        "print(\"All features are now scaled\")"
      ],
      "metadata": {
        "id": "78jYUMSqpnEB",
        "colab": {
          "base_uri": "https://localhost:8080/"
        },
        "outputId": "27ad941d-cf28-4546-cf46-fcfb58437bed"
      },
      "execution_count": 140,
      "outputs": [
        {
          "output_type": "stream",
          "name": "stdout",
          "text": [
            "All features are now scaled\n"
          ]
        }
      ]
    },
    {
      "cell_type": "code",
      "source": [
        "\n",
        "from sklearn.model_selection import train_test_split\n",
        "\n",
        "X_rest, X_test, y_rest, y_test = train_test_split(scaled_ds, data_y, test_size=0.2)\n",
        "X_train, X_cv, y_train, y_cv = train_test_split(X_rest, y_rest, test_size=0.2)\n",
        "\n",
        "print(\"X Train:\", X_train.shape)\n",
        "print(\"X CV:\", X_cv.shape)\n",
        "print(\"X Test:\", X_test.shape)\n",
        "print(\"Y Train:\", y_train.shape)\n",
        "print(\"Y CV:\", y_cv.shape)\n",
        "print(\"Y Test:\", y_test.shape)"
      ],
      "metadata": {
        "id": "7ZdjHFM5n_wC",
        "colab": {
          "base_uri": "https://localhost:8080/"
        },
        "outputId": "a7c3ea33-7624-4cc3-bfe3-8302d0c215fd"
      },
      "execution_count": 141,
      "outputs": [
        {
          "output_type": "stream",
          "name": "stdout",
          "text": [
            "X Train: (640, 29)\n",
            "X CV: (160, 29)\n",
            "X Test: (200, 29)\n",
            "Y Train: (640,)\n",
            "Y CV: (160,)\n",
            "Y Test: (200,)\n"
          ]
        }
      ]
    },
    {
      "cell_type": "code",
      "source": [
        "y_train.replace({\"bad\":0, \"good\":1}, inplace=True)\n",
        "y_test.replace({\"bad\":0, \"good\":1}, inplace=True)\n",
        "y_cv.replace({\"bad\":0, \"good\":1}, inplace=True)"
      ],
      "metadata": {
        "id": "TYJDUPbuptYk"
      },
      "execution_count": 142,
      "outputs": []
    },
    {
      "cell_type": "code",
      "source": [
        "# Import the libraries\n",
        "import os\n",
        "import pickle\n",
        "from sklearn.manifold import TSNE\n",
        "from sklearn import preprocessing\n",
        "from sklearn import metrics\n",
        "from sklearn.tree import DecisionTreeClassifier\n",
        "from sklearn.model_selection import train_test_split\n",
        "from sklearn.linear_model import LogisticRegression\n",
        "from sklearn.metrics import roc_curve, roc_auc_score\n",
        "from sklearn.metrics import accuracy_score\n",
        "from sklearn.calibration import CalibratedClassifierCV\n",
        "\n",
        "\n",
        "%matplotlib inline"
      ],
      "metadata": {
        "id": "u8myqRwXpwJx"
      },
      "execution_count": 143,
      "outputs": []
    },
    {
      "cell_type": "code",
      "source": [
        "alpha = np.linspace(1, 20, 20, endpoint=True)\n",
        "cv_auc_array=[]\n",
        "for i in alpha:\n",
        "    DeTree=DecisionTreeClassifier(max_depth=i)\n",
        "    DeTree.fit(X_train,y_train)\n",
        "    sig_clf = CalibratedClassifierCV(DeTree, method=\"sigmoid\")\n",
        "    sig_clf.fit(X_train, y_train)\n",
        "    predict_y = sig_clf.predict_proba(X_cv)\n",
        "    cv_auc_array.append(roc_auc_score(y_cv, predict_y[:,1]))\n",
        "    \n",
        "for i in range(len(cv_auc_array)):\n",
        "    print ('AUC for k = ',alpha[i],'is',cv_auc_array[i])\n",
        "\n",
        "best_alpha = np.argmax(cv_auc_array)\n",
        "    \n",
        "fig, ax = plt.subplots()\n",
        "ax.plot(alpha, cv_auc_array,c='g')\n",
        "for i, txt in enumerate(np.round(cv_auc_array,3)):\n",
        "    ax.annotate((alpha[i],np.round(txt,3)), (alpha[i],cv_auc_array[i]))\n",
        "plt.grid()\n",
        "plt.title(\"Cross Validation Error for each alpha\")\n",
        "plt.xlabel(\"Alpha i's\")\n",
        "plt.ylabel(\"Error measure\")\n",
        "plt.show()\n",
        "\n",
        "DeTree=DecisionTreeClassifier(max_depth=alpha[best_alpha])\n",
        "DeTree.fit(X_train,y_train)\n",
        "sig_clf = CalibratedClassifierCV(DeTree, method=\"sigmoid\")\n",
        "sig_clf.fit(X_train, y_train)\n",
        "    \n",
        "predict_y = sig_clf.predict_proba(X_train)\n",
        "print ('For values of best alpha = ', alpha[best_alpha], \"The train AUC is:\",roc_auc_score(y_train, predict_y[:,1]))\n",
        "predict_y = sig_clf.predict_proba(X_cv)\n",
        "print('For values of best alpha = ', alpha[best_alpha], \"The cross validation AUC is:\",roc_auc_score(y_cv, predict_y[:,1]))\n",
        "predict_y = sig_clf.predict_proba(X_test)\n",
        "print('For values of best alpha = ', alpha[best_alpha], \"The test AUC is:\",roc_auc_score(y_test, predict_y[:,1]))\n"
      ],
      "metadata": {
        "colab": {
          "base_uri": "https://localhost:8080/",
          "height": 711
        },
        "id": "xJgWmlTnNKlk",
        "outputId": "e9420a5d-7e0c-4113-fbc3-2ee46b693212"
      },
      "execution_count": 144,
      "outputs": [
        {
          "output_type": "stream",
          "name": "stdout",
          "text": [
            "AUC for k =  1.0 is 0.6695487974557742\n",
            "AUC for k =  2.0 is 0.725402504472272\n",
            "AUC for k =  3.0 is 0.7388193202146691\n",
            "AUC for k =  4.0 is 0.7813555953090837\n",
            "AUC for k =  5.0 is 0.7794673027231166\n",
            "AUC for k =  6.0 is 0.7531305903398927\n",
            "AUC for k =  7.0 is 0.7614788312462731\n",
            "AUC for k =  8.0 is 0.7701252236135957\n",
            "AUC for k =  9.0 is 0.7361359570661896\n",
            "AUC for k =  10.0 is 0.7035380640031803\n",
            "AUC for k =  11.0 is 0.6924070761280064\n",
            "AUC for k =  12.0 is 0.7045319022063209\n",
            "AUC for k =  13.0 is 0.7316636851520572\n",
            "AUC for k =  14.0 is 0.7246074339097596\n",
            "AUC for k =  15.0 is 0.6932021466905188\n",
            "AUC for k =  16.0 is 0.7344464321208507\n",
            "AUC for k =  17.0 is 0.7296760087457761\n",
            "AUC for k =  18.0 is 0.7254025044722718\n",
            "AUC for k =  19.0 is 0.734943351222421\n",
            "AUC for k =  20.0 is 0.6999602464718744\n"
          ]
        },
        {
          "output_type": "display_data",
          "data": {
            "text/plain": [
              "<Figure size 432x288 with 1 Axes>"
            ],
            "image/png": "[encoded data removed]"
          },
          "metadata": {
            "needs_background": "light"
          }
        },
        {
          "output_type": "stream",
          "name": "stdout",
          "text": [
            "For values of best alpha =  4.0 The train AUC is: 0.8405315807165792\n",
            "For values of best alpha =  4.0 The cross validation AUC is: 0.776187636652753\n",
            "For values of best alpha =  4.0 The test AUC is: 0.7609719669117646\n"
          ]
        }
      ]
    },
    {
      "cell_type": "code",
      "source": [
        "clf_tree = DecisionTreeClassifier(max_depth=alpha[best_alpha])\n",
        "clf_tree.fit(X_train, y_train)\n",
        "y_pred_tree = clf_tree.predict(X_test)\n",
        "acc_1 = accuracy_score(y_test, y_pred_tree)\n",
        "y_score1 = clf_tree.predict_proba(X_test)[:,1]\n",
        "y_score3 = clf_tree.predict_proba(X_train)[:,1]"
      ],
      "metadata": {
        "id": "u9BTgVQvNQtU"
      },
      "execution_count": 145,
      "outputs": []
    },
    {
      "cell_type": "code",
      "source": [
        "#Logistics\n",
        "alpha = [10 ** x for x in range(-5, 4)]\n",
        "cv_auc_array=[]\n",
        "for i in alpha:\n",
        "    logisticR=LogisticRegression(penalty='l2',C=i,class_weight='balanced')\n",
        "    logisticR.fit(X_train,y_train)\n",
        "    sig_clf = CalibratedClassifierCV(logisticR, method=\"sigmoid\")\n",
        "    sig_clf.fit(X_train, y_train)\n",
        "    predict_y = sig_clf.predict_proba(X_cv)\n",
        "    cv_auc_array.append(roc_auc_score(y_cv, predict_y[:,1]))\n",
        "    \n",
        "for i in range(len(cv_auc_array)):\n",
        "    print ('AUC for k = ',alpha[i],'is',cv_auc_array[i])\n",
        "\n",
        "best_alpha = np.argmax(cv_auc_array)\n",
        "    \n",
        "fig, ax = plt.subplots()\n",
        "ax.plot(alpha, cv_auc_array,c='g')\n",
        "for i, txt in enumerate(np.round(cv_auc_array,3)):\n",
        "    ax.annotate((alpha[i],np.round(txt,3)), (alpha[i],cv_auc_array[i]))\n",
        "plt.grid()\n",
        "plt.title(\"Cross Validation Error for each alpha\")\n",
        "plt.xlabel(\"Alpha i's\")\n",
        "plt.ylabel(\"Error measure\")\n",
        "plt.show()\n",
        "\n",
        "logisticR=LogisticRegression(penalty='l2',C=alpha[best_alpha],class_weight='balanced')\n",
        "logisticR.fit(X_train,y_train)\n",
        "sig_clf_1 = CalibratedClassifierCV(logisticR, method=\"sigmoid\")\n",
        "sig_clf_1.fit(X_train, y_train)\n",
        "    \n",
        "predict_y = sig_clf_1.predict_proba(X_train)\n",
        "print ('For values of best alpha = ', alpha[best_alpha], \"The train AUC is:\",roc_auc_score(y_train, predict_y[:,1]))\n",
        "predict_y = sig_clf_1.predict_proba(X_cv)\n",
        "print('For values of best alpha = ', alpha[best_alpha], \"The cross validation AUC is:\",roc_auc_score(y_cv, predict_y[:,1]))\n",
        "predict_y = sig_clf_1.predict_proba(X_test)\n",
        "print('For values of best alpha = ', alpha[best_alpha], \"The test AUC is:\",roc_auc_score(y_test, predict_y[:,1]))\n",
        "\n"
      ],
      "metadata": {
        "colab": {
          "base_uri": "https://localhost:8080/",
          "height": 512
        },
        "id": "-qkIE0UWNSrF",
        "outputId": "e0302e09-5562-4b96-a110-c7d1952ab916"
      },
      "execution_count": 146,
      "outputs": [
        {
          "output_type": "stream",
          "name": "stdout",
          "text": [
            "AUC for k =  1e-05 is 0.708606638839197\n",
            "AUC for k =  0.0001 is 0.7090041741204531\n",
            "AUC for k =  0.001 is 0.7097992446829656\n",
            "AUC for k =  0.01 is 0.7099980123235938\n",
            "AUC for k =  0.1 is 0.7099980123235937\n",
            "AUC for k =  1 is 0.7099980123235937\n",
            "AUC for k =  10 is 0.7097992446829656\n",
            "AUC for k =  100 is 0.7097992446829656\n",
            "AUC for k =  1000 is 0.7097992446829656\n"
          ]
        },
        {
          "output_type": "display_data",
          "data": {
            "text/plain": [
              "<Figure size 432x288 with 1 Axes>"
            ],
            "image/png": "[encoded data removed]"
          },
          "metadata": {
            "needs_background": "light"
          }
        },
        {
          "output_type": "stream",
          "name": "stdout",
          "text": [
            "For values of best alpha =  0.01 The train AUC is: 0.7806678953530155\n",
            "For values of best alpha =  0.01 The cross validation AUC is: 0.7099980123235938\n",
            "For values of best alpha =  0.01 The test AUC is: 0.7902113970588235\n"
          ]
        }
      ]
    },
    {
      "cell_type": "code",
      "source": [
        "clf_reg = LogisticRegression(penalty='l2',C=alpha[best_alpha],class_weight='balanced')\n",
        "clf_reg.fit(X_train, y_train)\n",
        "y_pred_reg = clf_reg.predict(X_test)\n",
        "acc_2 = accuracy_score(y_test, y_pred_reg)\n",
        "y_score2 = clf_reg.predict_proba(X_test)[:,1]\n",
        "y_score4 = clf_reg.predict_proba(X_train)[:,1]"
      ],
      "metadata": {
        "id": "d909r1fHNWVe"
      },
      "execution_count": 147,
      "outputs": []
    },
    {
      "cell_type": "code",
      "source": [
        "# Test Dataset\n",
        "false_positive_rate1, true_positive_rate1, threshold1 = roc_curve(y_test, y_score1)\n",
        "false_positive_rate2, true_positive_rate2, threshold2 = roc_curve(y_test, y_score2)"
      ],
      "metadata": {
        "id": "NEX4kislNfDt"
      },
      "execution_count": 148,
      "outputs": []
    },
    {
      "cell_type": "code",
      "source": [
        "# Train Dataset\n",
        "false_positive_rate3, true_positive_rate3, threshold3 = roc_curve(y_train, y_score3)\n",
        "false_positive_rate4, true_positive_rate4, threshold4 = roc_curve(y_train, y_score4)"
      ],
      "metadata": {
        "id": "ASOzO7YtNgO0"
      },
      "execution_count": 149,
      "outputs": []
    },
    {
      "cell_type": "code",
      "source": [
        "print('roc_auc_score for DecisionTree of test set: ', roc_auc_score(y_test, y_score1))\n",
        "print('roc_auc_score for Logistic Regression of test set: ', roc_auc_score(y_test, y_score2))\n",
        "print('\\n')\n",
        "print('roc_auc_score for DecisionTree of train set: ', roc_auc_score(y_train, y_score3))\n",
        "print('roc_auc_score for Logistic Regression of train set: ', roc_auc_score(y_train, y_score4))"
      ],
      "metadata": {
        "colab": {
          "base_uri": "https://localhost:8080/"
        },
        "id": "NZxV-jinNixu",
        "outputId": "7990b4fb-4748-43bc-86a3-5a02dd274dcb"
      },
      "execution_count": 150,
      "outputs": [
        {
          "output_type": "stream",
          "name": "stdout",
          "text": [
            "roc_auc_score for DecisionTree of test set:  0.723920036764706\n",
            "roc_auc_score for Logistic Regression of test set:  0.7889476102941176\n",
            "\n",
            "\n",
            "roc_auc_score for DecisionTree of train set:  0.7978405257850262\n",
            "roc_auc_score for Logistic Regression of train set:  0.7810388195337947\n"
          ]
        }
      ]
    },
    {
      "cell_type": "code",
      "source": [
        "fig, (ax1, ax2) = plt.subplots(nrows=1, ncols=2, figsize=(12,6))\n",
        "\n",
        "ax1.plot([0,1],[0,1], 'k--', color='black')\n",
        "ax1.plot(false_positive_rate2, true_positive_rate2, label= \"Logistic Regression\", color='red')\n",
        "ax1.plot(false_positive_rate1, true_positive_rate1, label= \"Decision Tree Classification\", color='green')\n",
        "ax1.legend(fontsize=13)\n",
        "ax1.set_xlabel(\"FPR\", fontsize=12)\n",
        "ax1.set_ylabel(\"TPR\")\n",
        "ax1.set_title('Receiver Operating Characteristic of Test Set', fontsize=14)\n",
        "\n",
        "ax2.plot([0,1],[0,1], 'k--', color='black')\n",
        "ax2.plot(false_positive_rate4, true_positive_rate4, label= \"Logistic Regression\", color='red')\n",
        "ax2.plot(false_positive_rate3, true_positive_rate3, label= \"Decision Tree Classification\", color='green')\n",
        "ax2.legend(fontsize=13)\n",
        "plt.xlabel(\"FPR\", fontsize=12)\n",
        "plt.ylabel(\"TPR\")\n",
        "ax2.set_title('Receiver Operating Characteristic of Train Set', fontsize=14)\n",
        "plt.show()"
      ],
      "metadata": {
        "colab": {
          "base_uri": "https://localhost:8080/",
          "height": 408
        },
        "id": "mAvdP-lnNlJL",
        "outputId": "07291424-57ff-42dd-9ff8-b3c8a67f466a"
      },
      "execution_count": 151,
      "outputs": [
        {
          "output_type": "display_data",
          "data": {
            "text/plain": [
              "<Figure size 864x432 with 2 Axes>"
            ],
            "image/png": "[encoded data removed]"
          },
          "metadata": {
            "needs_background": "light"
          }
        }
      ]
    },
    {
      "cell_type": "code",
      "source": [
        "importance = clf_reg.coef_[0]"
      ],
      "metadata": {
        "id": "Cg8U0_8h_xls"
      },
      "execution_count": 152,
      "outputs": []
    },
    {
      "cell_type": "code",
      "source": [
        "data_X.info()"
      ],
      "metadata": {
        "colab": {
          "base_uri": "https://localhost:8080/"
        },
        "id": "-tJolSmSAnaM",
        "outputId": "08272591-1893-4cd6-8fa8-0351fe89c6f8"
      },
      "execution_count": 153,
      "outputs": [
        {
          "output_type": "stream",
          "name": "stdout",
          "text": [
            "<class 'pandas.core.frame.DataFrame'>\n",
            "RangeIndex: 1000 entries, 0 to 999\n",
            "Data columns (total 29 columns):\n",
            " #   Column                          Non-Null Count  Dtype  \n",
            "---  ------                          --------------  -----  \n",
            " 0   Age                             1000 non-null   int64  \n",
            " 1   Credit amount                   1000 non-null   int64  \n",
            " 2   Duration                        1000 non-null   int64  \n",
            " 3   Sex_male                        1000 non-null   float64\n",
            " 4   Sex_female                      1000 non-null   float64\n",
            " 5   Job_skilled                     1000 non-null   float64\n",
            " 6   Job_unskilled and resident      1000 non-null   float64\n",
            " 7   Job_highly skilled              1000 non-null   float64\n",
            " 8   Job_unskilled and non-resident  1000 non-null   float64\n",
            " 9   Hou_own                         1000 non-null   float64\n",
            " 10  Hou_free                        1000 non-null   float64\n",
            " 11  Hou_rent                        1000 non-null   float64\n",
            " 12  Sav_no_inf                      1000 non-null   float64\n",
            " 13  Sav_little                      1000 non-null   float64\n",
            " 14  Sav_quite rich                  1000 non-null   float64\n",
            " 15  Sav_rich                        1000 non-null   float64\n",
            " 16  Sav_moderate                    1000 non-null   float64\n",
            " 17  Che_little                      1000 non-null   float64\n",
            " 18  Che_moderate                    1000 non-null   float64\n",
            " 19  Che_no_inf                      1000 non-null   float64\n",
            " 20  Che_rich                        1000 non-null   float64\n",
            " 21  Pur_radio/TV                    1000 non-null   float64\n",
            " 22  Pur_education                   1000 non-null   float64\n",
            " 23  Pur_furniture/equipment         1000 non-null   float64\n",
            " 24  Pur_car                         1000 non-null   float64\n",
            " 25  Pur_business                    1000 non-null   float64\n",
            " 26  Pur_domestic appliances         1000 non-null   float64\n",
            " 27  Pur_repairs                     1000 non-null   float64\n",
            " 28  Pur_vacation/others             1000 non-null   float64\n",
            "dtypes: float64(26), int64(3)\n",
            "memory usage: 226.7 KB\n"
          ]
        }
      ]
    },
    {
      "cell_type": "code",
      "source": [
        "import_df = pd.DataFrame(importance, columns=['Coef'])\n",
        "ax = import_df.plot(kind='bar', figsize=(17,4), color= 'green')\n",
        "plt.title('Bar Chart of Logistic Regression Coefficients as Feature Importance Scores')\n",
        "plt.legend(fontsize=12)\n",
        "plt.xlabel(\"age\").set_visible(False)\n",
        "plt.xticks(fontsize=8, rotation=40)\n",
        "plt.show()"
      ],
      "metadata": {
        "colab": {
          "base_uri": "https://localhost:8080/",
          "height": 285
        },
        "id": "p6-Nrz26_-rw",
        "outputId": "55284457-17cd-4bce-ce2b-186cc516a08a"
      },
      "execution_count": 154,
      "outputs": [
        {
          "output_type": "display_data",
          "data": {
            "text/plain": [
              "<Figure size 1224x288 with 1 Axes>"
            ],
            "image/png": "[encoded data removed]"
          },
          "metadata": {
            "needs_background": "light"
          }
        }
      ]
    }
  ]
}